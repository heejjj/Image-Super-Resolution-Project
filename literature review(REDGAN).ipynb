{
 "cells": [
  {
   "cell_type": "markdown",
   "id": "0d06a24e",
   "metadata": {},
   "source": [
    "## Transformer-based Generative Adversarial Networks in Computer Vision: A Comprehensive Survey\n",
    "### Shiv Ram Dubey, Senior Member, IEEE, Satish Kumar Singh, Senior Member, IEEE\n"
   ]
  },
  {
   "cell_type": "markdown",
   "id": "1ed92da7",
   "metadata": {},
   "source": [
    "GAN(생성적 적대 신경망) : 이미지 생성, 이미지 간 변환, 비디오 합성 등 여러 CV를 포함한 잠재적 유용성을 보여줌.\n",
    "일반적으로 생성자 네트워크는 샘플을 생성, 판별자 네트워크는 생성자 네트워크의 훈련을 용이하게 하는데 활용\n",
    " - 판별자 네트워크는 CNN활용\n",
    " - 생성자 네트워크는 이미지 생성을 위해 Up-CNN이거나 이미지 간 변환을 위해 encoder-decoder 네트워크를 활용\n",
    " - 합성곱 기반 네트워크는 레이어 내에서 지역적인 관계를 활용, 추상적인 특징을 추출하기 위해서는 더욱 깊은 네트워크가 필요함\n",
    " - 즉, CNN에서는 특정공간에서 전역적인 관계를 활용하기가 어려움\n",
    " - 최근 등장한 transformer network는 CV분야에서 놀라운 성능 향상을 보여주었음\n",
    " - 최근에는 이미지, 비디오 합성을 위해 GAN 프레임워크에서 transformer를 활용하기 위한 시도가 있음\n",
    " - 본 논문의 핵심은 CV의 진보를 위해 transformer 네트워크를 활용하는 GAN의 발전적인 모습을 보여주는데 있음\n",
    " \n",
    " \n",
    " GAN의 개념과 이해 https://www.samsungsds.com/kr/insights/generative-adversarial-network-ai-2.html\n",
    " \n",
    " Transformer Network란? https://wikidocs.net/31379"
   ]
  },
  {
   "cell_type": "code",
   "execution_count": null,
   "id": "1d6ca01a",
   "metadata": {},
   "outputs": [],
   "source": []
  }
 ],
 "metadata": {
  "kernelspec": {
   "display_name": "Python 3 (ipykernel)",
   "language": "python",
   "name": "python3"
  },
  "language_info": {
   "codemirror_mode": {
    "name": "ipython",
    "version": 3
   },
   "file_extension": ".py",
   "mimetype": "text/x-python",
   "name": "python",
   "nbconvert_exporter": "python",
   "pygments_lexer": "ipython3",
   "version": "3.9.13"
  }
 },
 "nbformat": 4,
 "nbformat_minor": 5
}
