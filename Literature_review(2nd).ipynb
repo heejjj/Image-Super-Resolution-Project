{
 "cells": [
  {
   "cell_type": "markdown",
   "id": "80dd3203",
   "metadata": {},
   "source": [
    "## Literature review(2nd)\n",
    "###  Efficient Deep Models for Real-Time 4K Image Super-Resolution.(NTIRE 2023 Benchmark and Report)\n",
    "###  Authored by Youngmin Kim(06-16, 2023)\n"
   ]
  },
  {
   "cell_type": "markdown",
   "id": "87fb3486",
   "metadata": {},
   "source": [
    "##### [Abstract]\n",
    "\n",
    "이 논문에서는 상용 GPU에서 실시간의 환경에서720p 및 1080p 해상도에서 기본 4K(x2 및 x3 요소)로 이미지를 업스케일링하는 것을 목표로 하는 NTIRE 2023 실시간 이미지 초해상도(RTSR) 챌린지의 일환으로 효율적인 업스케일링을 위한 새로운 벤치마크를 소개하고 있음. 이를 위해 디지털 아트에서 게임 및 사진에 이르기까지 다양한 4K 이미지가 포함된 새로운 테스트 세트를 사용하고 있음. 해당 모델이서는 Bicubic 보간에 대한 최소 PSNR 충실도(?)를 보장하면서 런타임, 매개변수 및 FLOP를 측정하여 4K SR용으로 고안된 방법을 평가하고있음.\n",
    "\n",
    "* 업스케일링 : 사진이나 동영상의 픽셀과 픽셀 사이에 새로운 픽셀을 끼워 넣어 해상도를 높여주는 기술\n",
    "* bicubic interpolation(바이큐빅 보간) : 주변 픽셀 값을 기반으로 이미지의 새 픽셀 값을 추정하는 방법론. 가장 많이 쓰이는 곳은 이미지의 \n",
    "  픽셀 늘려서 이미지의 크기를 키우는 거나 해상도를 향상시키는 것이지만, 곡면의 가장자리를 매끄럽게 하거나 새로운 개체를 집어넣는 등의 \n",
    "  일에도 널리 이용되는 기술이다.(citation : https://namu.wiki/w/%EC%9D%B4%EB%AF%B8%EC%A7%80%20%EB%B3%B4%EA%B0%84)"
   ]
  },
  {
   "cell_type": "code",
   "execution_count": null,
   "id": "467d3266",
   "metadata": {},
   "outputs": [],
   "source": []
  }
 ],
 "metadata": {
  "kernelspec": {
   "display_name": "Python 3 (ipykernel)",
   "language": "python",
   "name": "python3"
  },
  "language_info": {
   "codemirror_mode": {
    "name": "ipython",
    "version": 3
   },
   "file_extension": ".py",
   "mimetype": "text/x-python",
   "name": "python",
   "nbconvert_exporter": "python",
   "pygments_lexer": "ipython3",
   "version": "3.9.13"
  }
 },
 "nbformat": 4,
 "nbformat_minor": 5
}
