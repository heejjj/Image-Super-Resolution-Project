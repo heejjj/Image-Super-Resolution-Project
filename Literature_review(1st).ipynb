{
 "cells": [
  {
   "cell_type": "markdown",
   "id": "0d64837b",
   "metadata": {},
   "source": [
    "## Literature review(2nd)\n",
    "###  CCS‑GAN: COVID‑19 CT Scan Generation and Classification with Very Few Positive Training Images\n",
    "###  Authored by Youngmin Kim(06-16, 2023)\n"
   ]
  },
  {
   "cell_type": "markdown",
   "id": "9e191de5",
   "metadata": {},
   "source": [
    "##### [Abstract]\n",
    "본 논문에서는 적은양의 훈련, 샘플이미지를 사용하여 폐렴 CT 스캔을 할 수 있는 새로운 알고리즘을 제시하는데 목적이 있음.\n",
    "이 생성 알고리즘은 DNN 분류기가 10개의 positive slice를 사용하여 높은 분류 정확도를 달성할 수 있도록 충분한 정확도의 이미지를 생성함.\n",
    "딥러닝 훈련을 위한 대량의 COVID-19 양성 이미지를 얻는 것이 한동안 어려웠기 때문에 이것은 펜데믹기간 중 어려운 숙제 였음.\n",
    "본 논문은 질병을 선별하는 방법을 학습 할 수 있는 알고리즘 연구분야와, 적은양의 데이터로 깊은 합성 이미지를 생성하는 알고리즘은 의료기간 간의 데이터 공유 장벽을 줄이는 이점이 있음. 따라서, 이를 구현하기 위해 CCS-GAN을 활용함.\n",
    "CCS-GAN은 진단 분류 성능을 개선할 목적으로 더 많은 양의 합성 양성 이미지를 생성하기 위해 style transfer, 폐 분할 및 음성 이미지의 관련 전이 학습을 결합하여 구현함."
   ]
  },
  {
   "cell_type": "code",
   "execution_count": null,
   "id": "40cd0580",
   "metadata": {},
   "outputs": [],
   "source": []
  }
 ],
 "metadata": {
  "kernelspec": {
   "display_name": "Python 3 (ipykernel)",
   "language": "python",
   "name": "python3"
  },
  "language_info": {
   "codemirror_mode": {
    "name": "ipython",
    "version": 3
   },
   "file_extension": ".py",
   "mimetype": "text/x-python",
   "name": "python",
   "nbconvert_exporter": "python",
   "pygments_lexer": "ipython3",
   "version": "3.9.13"
  }
 },
 "nbformat": 4,
 "nbformat_minor": 5
}
