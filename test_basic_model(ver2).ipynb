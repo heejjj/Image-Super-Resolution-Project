{
 "cells": [
  {
   "cell_type": "markdown",
   "id": "4013a4e7",
   "metadata": {},
   "source": [
    "# super-resolution pratice ver.2\n",
    "## citation : https://webnautes.tistory.com/1750"
   ]
  },
  {
   "cell_type": "markdown",
   "id": "31dd2150",
   "metadata": {},
   "source": [
    "### OpenCV에서 미리 학습된 Super-resolution 딥러닝 모델을 사용하여 이미지를 확대할 수 있는 방법을 제공\n",
    "### [순서]\n",
    "* contrib 모듈이 포함된 OpenCV를 설치해야함. 기존의 opencv-python 패키지를 설치한 적이 있다면 삭제하고 다시설치 필요"
   ]
  },
  {
   "cell_type": "code",
   "execution_count": 1,
   "id": "768e5204",
   "metadata": {},
   "outputs": [
    {
     "name": "stdout",
     "output_type": "stream",
     "text": [
      "Collecting opencv-contrib-python\n",
      "  Using cached opencv_contrib_python-4.7.0.72-cp37-abi3-win_amd64.whl (44.9 MB)\n",
      "Requirement already satisfied: numpy>=1.17.0 in c:\\users\\bluemin\\anaconda3\\lib\\site-packages (from opencv-contrib-python) (1.23.5)\n",
      "Installing collected packages: opencv-contrib-python\n",
      "Successfully installed opencv-contrib-python-4.7.0.72\n",
      "Note: you may need to restart the kernel to use updated packages.\n"
     ]
    },
    {
     "name": "stderr",
     "output_type": "stream",
     "text": [
      "WARNING: Ignoring invalid distribution -pencv-python (c:\\users\\bluemin\\anaconda3\\lib\\site-packages)\n",
      "WARNING: Ignoring invalid distribution -pencv-python (c:\\users\\bluemin\\anaconda3\\lib\\site-packages)\n"
     ]
    }
   ],
   "source": [
    "pip install opencv-contrib-python"
   ]
  },
  {
   "cell_type": "code",
   "execution_count": 3,
   "id": "4b92e8df",
   "metadata": {},
   "outputs": [
    {
     "name": "stdout",
     "output_type": "stream",
     "text": [
      "Collecting opencv-python\n",
      "  Using cached opencv_python-4.7.0.72-cp37-abi3-win_amd64.whl (38.2 MB)\n",
      "Requirement already satisfied: numpy>=1.17.0 in c:\\users\\bluemin\\anaconda3\\lib\\site-packages (from opencv-python) (1.23.5)\n",
      "Installing collected packages: opencv-python\n",
      "Note: you may need to restart the kernel to use updated packages.\n"
     ]
    },
    {
     "name": "stderr",
     "output_type": "stream",
     "text": [
      "WARNING: Ignoring invalid distribution -pencv-python (c:\\users\\bluemin\\anaconda3\\lib\\site-packages)\n",
      "WARNING: Ignoring invalid distribution -pencv-python (c:\\users\\bluemin\\anaconda3\\lib\\site-packages)\n",
      "ERROR: Could not install packages due to an OSError: [WinError 5] 액세스가 거부되었습니다: 'C:\\\\Users\\\\Bluemin\\\\anaconda3\\\\Lib\\\\site-packages\\\\cv2\\\\cv2.pyd'\n",
      "Consider using the `--user` option or check the permissions.\n",
      "\n"
     ]
    }
   ],
   "source": [
    "pip install --upgrade opencv-python"
   ]
  },
  {
   "cell_type": "markdown",
   "id": "516ab6e5",
   "metadata": {},
   "source": [
    "#### [미리학습되어 배포되고 있는 모델을 다운]\n",
    "\n",
    "* https://github.com/Saafke/EDSR_Tensorflow/tree/master/models   ---- EDSR(가장 퍼포먼스가 좋음, 다만 모델이 크고, 속도가 느림)\n",
    "* https://github.com/fannymonori/TF-ESPCN/tree/master/export ---- ESPCN\n",
    "* https://github.com/fannymonori/TF-ESPCN/tree/master/export ---- FSRCNN  이 2가지 모델은 작은모델로 속도가 빠르며, live video 적용가능\n",
    "* https://github.com/fannymonori/TF-LapSRN/tree/master/export ----LapSRN 중간크기의 모델"
   ]
  },
  {
   "cell_type": "markdown",
   "id": "018dd6da",
   "metadata": {},
   "source": [
    "#### [EDSR에 대한 설명] \n",
    "https://velog.io/@danielseo/Computer-Vision-EDSR-Enhanced-Deep-Residual-Networks-for-Single-Image-Super-Resolution"
   ]
  },
  {
   "cell_type": "markdown",
   "id": "b8855610",
   "metadata": {},
   "source": [
    "#### [ESPCN에 대한 설명] \n",
    "https://mole-starseeker.tistory.com/84"
   ]
  },
  {
   "cell_type": "markdown",
   "id": "b91bbfef",
   "metadata": {},
   "source": [
    "#### [FSRCNN에 대한 설명] \n",
    "https://sofar-sogood.tistory.com/entry/FSRCNN-%EB%A6%AC%EB%B7%B0-Accelerating-the-Super-Resolution-Convolutional-Neural-Network-ECCV-16"
   ]
  },
  {
   "cell_type": "markdown",
   "id": "9269de34",
   "metadata": {},
   "source": [
    "#### [LapSRN에 대한 설명] \n",
    "\n",
    "https://sofar-sogood.tistory.com/entry/LapSRN-%EB%A6%AC%EB%B7%B0-Deep-Laplacian-Pyramid-Networks-for-Fast-and-Accurate-Super-Resolution-CVPR-17"
   ]
  },
  {
   "cell_type": "markdown",
   "id": "a7b8382f",
   "metadata": {},
   "source": [
    "#### [몇 배 확대할지에 따라 다운받을 모델을 선택 - e.g., ESPCN 2배 확대모델은 ESPCN_x4.pb 다운]\n"
   ]
  },
  {
   "cell_type": "code",
   "execution_count": 4,
   "id": "f0009dbf",
   "metadata": {},
   "outputs": [],
   "source": [
    "import cv2\n",
    "import matplotlib.pyplot as plt\n",
    "\n",
    "\n",
    "img = cv2.imread('testCT2.jpg')\n",
    "\n",
    "sr = cv2.dnn_superres.DnnSuperResImpl_create()\n",
    "sr.readModel('ESPCN_x4.pb')  # 사용하는 모델의 가중치 파일(사전에 학습된 파라미터가 저장된 파일)\n",
    "sr.setModel(\"espcn\",4)  # setmodel함수를 활용해 super resolution 모델을 설정하고 여기서는 espcn을 활용, 업샘플링 모델의 크기\n",
    "result1 = sr.upsample(img)"
   ]
  },
  {
   "cell_type": "code",
   "execution_count": null,
   "id": "f1f35c48",
   "metadata": {},
   "outputs": [],
   "source": [
    "result2 = cv2.resize(img, dsize = None, fx = 2, fy = 2)  # opencv에서 제공되는 보간법을 활용한 이미지 사이즈 변경\n",
    "\n",
    "cv2.imshow('original', img)\n",
    "cv2.imshow('result-ESPCN', result1)\n",
    "cv2.imshow('result-OpenCV', result2)\n",
    "cv2.waitKey(0)"
   ]
  },
  {
   "cell_type": "code",
   "execution_count": null,
   "id": "87683576",
   "metadata": {},
   "outputs": [],
   "source": []
  }
 ],
 "metadata": {
  "kernelspec": {
   "display_name": "Python 3 (ipykernel)",
   "language": "python",
   "name": "python3"
  },
  "language_info": {
   "codemirror_mode": {
    "name": "ipython",
    "version": 3
   },
   "file_extension": ".py",
   "mimetype": "text/x-python",
   "name": "python",
   "nbconvert_exporter": "python",
   "pygments_lexer": "ipython3",
   "version": "3.9.13"
  }
 },
 "nbformat": 4,
 "nbformat_minor": 5
}
