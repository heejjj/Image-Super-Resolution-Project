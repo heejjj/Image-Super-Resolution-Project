{
 "cells": [
  {
   "cell_type": "markdown",
   "id": "403fd4bf",
   "metadata": {},
   "source": [
    "## 가장 기본적인 super-resolution model"
   ]
  },
  {
   "cell_type": "markdown",
   "id": "f3587f88",
   "metadata": {},
   "source": [
    "### 데이터 셋 다운로드"
   ]
  },
  {
   "cell_type": "code",
   "execution_count": 1,
   "id": "88753d9c",
   "metadata": {},
   "outputs": [
    {
     "name": "stdout",
     "output_type": "stream",
     "text": [
      "Requirement already satisfied: tensorflow-datasets in c:\\users\\bluemin\\anaconda3\\lib\\site-packages (4.9.2)"
     ]
    },
    {
     "name": "stderr",
     "output_type": "stream",
     "text": [
      "WARNING: Ignoring invalid distribution -pencv-python (c:\\users\\bluemin\\appdata\\roaming\\python\\python39\\site-packages)\n",
      "WARNING: Ignoring invalid distribution -pencv-python (c:\\users\\bluemin\\appdata\\roaming\\python\\python39\\site-packages)\n",
      "WARNING: Ignoring invalid distribution -pencv-python (c:\\users\\bluemin\\appdata\\roaming\\python\\python39\\site-packages)\n",
      "WARNING: Ignoring invalid distribution -pencv-python (c:\\users\\bluemin\\appdata\\roaming\\python\\python39\\site-packages)\n",
      "WARNING: Ignoring invalid distribution -pencv-python (c:\\users\\bluemin\\appdata\\roaming\\python\\python39\\site-packages)\n",
      "WARNING: Ignoring invalid distribution -pencv-python (c:\\users\\bluemin\\appdata\\roaming\\python\\python39\\site-packages)\n"
     ]
    },
    {
     "name": "stdout",
     "output_type": "stream",
     "text": [
      "\n",
      "Requirement already satisfied: absl-py in c:\\users\\bluemin\\anaconda3\\lib\\site-packages (from tensorflow-datasets) (1.3.0)\n",
      "Requirement already satisfied: array-record in c:\\users\\bluemin\\anaconda3\\lib\\site-packages (from tensorflow-datasets) (0.2.0)\n",
      "Requirement already satisfied: click in c:\\users\\bluemin\\anaconda3\\lib\\site-packages (from tensorflow-datasets) (8.0.4)\n",
      "Requirement already satisfied: dm-tree in c:\\users\\bluemin\\anaconda3\\lib\\site-packages (from tensorflow-datasets) (0.1.8)\n",
      "Requirement already satisfied: etils[enp,epath]>=0.9.0 in c:\\users\\bluemin\\anaconda3\\lib\\site-packages (from tensorflow-datasets) (1.3.0)\n",
      "Requirement already satisfied: numpy in c:\\users\\bluemin\\anaconda3\\lib\\site-packages (from tensorflow-datasets) (1.23.5)\n",
      "Requirement already satisfied: promise in c:\\users\\bluemin\\anaconda3\\lib\\site-packages (from tensorflow-datasets) (2.3)\n",
      "Requirement already satisfied: protobuf>=3.20 in c:\\users\\bluemin\\anaconda3\\lib\\site-packages (from tensorflow-datasets) (3.20.3)\n",
      "Requirement already satisfied: psutil in c:\\users\\bluemin\\anaconda3\\lib\\site-packages (from tensorflow-datasets) (5.9.0)\n",
      "Requirement already satisfied: requests>=2.19.0 in c:\\users\\bluemin\\anaconda3\\lib\\site-packages (from tensorflow-datasets) (2.28.1)\n",
      "Requirement already satisfied: tensorflow-metadata in c:\\users\\bluemin\\anaconda3\\lib\\site-packages (from tensorflow-datasets) (1.13.1)\n",
      "Requirement already satisfied: termcolor in c:\\users\\bluemin\\anaconda3\\lib\\site-packages (from tensorflow-datasets) (2.3.0)\n",
      "Requirement already satisfied: toml in c:\\users\\bluemin\\anaconda3\\lib\\site-packages (from tensorflow-datasets) (0.10.2)\n",
      "Requirement already satisfied: tqdm in c:\\users\\bluemin\\anaconda3\\lib\\site-packages (from tensorflow-datasets) (4.64.1)\n",
      "Requirement already satisfied: wrapt in c:\\users\\bluemin\\anaconda3\\lib\\site-packages (from tensorflow-datasets) (1.14.1)\n",
      "Requirement already satisfied: importlib_resources in c:\\users\\bluemin\\anaconda3\\lib\\site-packages (from etils[enp,epath]>=0.9.0->tensorflow-datasets) (5.12.0)\n",
      "Requirement already satisfied: typing_extensions in c:\\users\\bluemin\\anaconda3\\lib\\site-packages (from etils[enp,epath]>=0.9.0->tensorflow-datasets) (4.3.0)\n",
      "Requirement already satisfied: zipp in c:\\users\\bluemin\\anaconda3\\lib\\site-packages (from etils[enp,epath]>=0.9.0->tensorflow-datasets) (3.8.0)\n",
      "Requirement already satisfied: charset-normalizer<3,>=2 in c:\\users\\bluemin\\anaconda3\\lib\\site-packages (from requests>=2.19.0->tensorflow-datasets) (2.0.4)\n",
      "Requirement already satisfied: idna<4,>=2.5 in c:\\users\\bluemin\\anaconda3\\lib\\site-packages (from requests>=2.19.0->tensorflow-datasets) (3.3)\n",
      "Requirement already satisfied: urllib3<1.27,>=1.21.1 in c:\\users\\bluemin\\anaconda3\\lib\\site-packages (from requests>=2.19.0->tensorflow-datasets) (1.26.11)\n",
      "Requirement already satisfied: certifi>=2017.4.17 in c:\\users\\bluemin\\anaconda3\\lib\\site-packages (from requests>=2.19.0->tensorflow-datasets) (2022.9.14)\n",
      "Requirement already satisfied: colorama in c:\\users\\bluemin\\anaconda3\\lib\\site-packages (from click->tensorflow-datasets) (0.4.5)\n",
      "Requirement already satisfied: six in c:\\users\\bluemin\\anaconda3\\lib\\site-packages (from promise->tensorflow-datasets) (1.16.0)\n",
      "Requirement already satisfied: googleapis-common-protos<2,>=1.52.0 in c:\\users\\bluemin\\anaconda3\\lib\\site-packages (from tensorflow-metadata->tensorflow-datasets) (1.59.1)\n"
     ]
    }
   ],
   "source": [
    "!pip install tensorflow-datasets"
   ]
  },
  {
   "cell_type": "code",
   "execution_count": null,
   "id": "07fc6053",
   "metadata": {},
   "outputs": [
    {
     "name": "stdout",
     "output_type": "stream",
     "text": [
      "Downloading and preparing dataset Unknown size (download: Unknown size, generated: Unknown size, total: Unknown size) to C:\\Users\\Bluemin\\tensorflow_datasets\\div2k\\bicubic_x4\\2.0.0...\n",
      "EXTRACTING {'train_lr_url': 'https://data.vision.ee.ethz.ch/cvl/DIV2K/DIV2K_train_LR_bicubic_X4.zip', 'valid_lr_url': 'https://data.vision.ee.ethz.ch/cvl/DIV2K/DIV2K_valid_LR_bicubic_X4.zip', 'train_hr_url': 'https://data.vision.ee.ethz.ch/cvl/DIV2K/DIV2K_train_HR.zip', 'valid_hr_url': 'https://data.vision.ee.ethz.ch/cvl/DIV2K/DIV2K_valid_HR.zip'}\n"
     ]
    },
    {
     "data": {
      "application/vnd.jupyter.widget-view+json": {
       "model_id": "797eeaa328824d74b5a9e4f940d52fe5",
       "version_major": 2,
       "version_minor": 0
      },
      "text/plain": [
       "Dl Completed...: 0 url [00:00, ? url/s]"
      ]
     },
     "metadata": {},
     "output_type": "display_data"
    },
    {
     "data": {
      "application/vnd.jupyter.widget-view+json": {
       "model_id": "733c329859f04cff9026ae14e3a97092",
       "version_major": 2,
       "version_minor": 0
      },
      "text/plain": [
       "Dl Size...: 0 MiB [00:00, ? MiB/s]"
      ]
     },
     "metadata": {},
     "output_type": "display_data"
    },
    {
     "data": {
      "application/vnd.jupyter.widget-view+json": {
       "model_id": "858a9d0c21d942dc9efb8e19d519cd28",
       "version_major": 2,
       "version_minor": 0
      },
      "text/plain": [
       "Extraction completed...: 0 file [00:00, ? file/s]"
      ]
     },
     "metadata": {},
     "output_type": "display_data"
    }
   ],
   "source": [
    "import tensorflow_datasets as tfds\n",
    "tfds.load(\"div2k/bicubic_x4\")\n",
    "\n",
    "## tfds : tensorflow dataset의 약자\n",
    "## div2k/bicubic_x4은 DIV2K 데이터셋 중에서 BICUBIC으로 업샘플링된 4배 해상도 이미지 데이터를 포함하고 있음.\n",
    "## 이 데이터셋은 일반적으로 업샘플링에 사용되며, 고해상도에서 저 해상도 이미지 생성시에 활용 가능"
   ]
  },
  {
   "cell_type": "markdown",
   "id": "8725f72c",
   "metadata": {},
   "source": [
    "# #가장 쉬운 Super Resolution - Interpolation\n",
    "### Super Resolution을 수행하는 가장 쉬운 방식은 Interpolation을 이용하는 것입니다. 아래 링크의 참조\n",
    "### * 선형보간법 : https://bskyvision.com/789\n",
    "### * bilinear interpolation https://blog.naver.com/dic1224/220882679460\n",
    "\n",
    "\n"
   ]
  },
  {
   "cell_type": "code",
   "execution_count": null,
   "id": "d248a640",
   "metadata": {},
   "outputs": [],
   "source": [
    "### scikit-image에서 제공하는 예제 이미지 활용\n"
   ]
  }
 ],
 "metadata": {
  "kernelspec": {
   "display_name": "Python 3 (ipykernel)",
   "language": "python",
   "name": "python3"
  },
  "language_info": {
   "codemirror_mode": {
    "name": "ipython",
    "version": 3
   },
   "file_extension": ".py",
   "mimetype": "text/x-python",
   "name": "python",
   "nbconvert_exporter": "python",
   "pygments_lexer": "ipython3",
   "version": "3.9.13"
  }
 },
 "nbformat": 4,
 "nbformat_minor": 5
}
